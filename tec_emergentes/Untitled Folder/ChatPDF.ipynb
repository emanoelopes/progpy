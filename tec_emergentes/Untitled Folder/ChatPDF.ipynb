{
 "cells": [
  {
   "cell_type": "code",
   "execution_count": 5,
   "id": "510d5274",
   "metadata": {},
   "outputs": [
    {
     "name": "stdout",
     "output_type": "stream",
     "text": [
      "Error: 500 Server Error: Internal Server Error for url: https://api.chatpdf.com/v1/chats/message\n"
     ]
    }
   ],
   "source": [
    "import requests\n",
    "\n",
    "headers = {\n",
    "    \"x-api-key\": \"sec_1nqmMVKDAemKZJyUyKfsF96CzkBfCwIn\",\n",
    "    \"Content-Type\": \"application/json\",\n",
    "}\n",
    "\n",
    "data = {\n",
    "    \"stream\": True,\n",
    "    \"referenceSources\": True,\n",
    "    \"sourceId\": \"src_APbI0cVuyWm50HKxdFUye\",\n",
    "    \"messages\": [\n",
    "        {\n",
    "            \"role\": \"user\",\n",
    "            \"content\": \"How to implement it on scholar context?\",\n",
    "        },\n",
    "    ],\n",
    "}\n",
    "\n",
    "\n",
    "url = \"https://api.chatpdf.com/v1/chats/message\"\n",
    "\n",
    "try:\n",
    "    response = requests.post(url, json=data, headers=headers, stream=True)\n",
    "    response.raise_for_status()\n",
    "\n",
    "    if response.iter_content:\n",
    "        max_chunk_size = 1024\n",
    "        for chunk in response.iter_content(max_chunk_size):\n",
    "            text = chunk.decode()\n",
    "            print(\"Chunk:\", text.strip())\n",
    "    else:\n",
    "        raise Exception(\"No data received\")\n",
    "except requests.exceptions.RequestException as error:\n",
    "    print(\"Error:\", error)"
   ]
  },
  {
   "cell_type": "code",
   "execution_count": null,
   "id": "6a028e8f",
   "metadata": {},
   "outputs": [],
   "source": []
  },
  {
   "cell_type": "code",
   "execution_count": null,
   "id": "2b4caf8b",
   "metadata": {},
   "outputs": [],
   "source": []
  }
 ],
 "metadata": {
  "kernelspec": {
   "display_name": "Python 3 (ipykernel)",
   "language": "python",
   "name": "python3"
  },
  "language_info": {
   "codemirror_mode": {
    "name": "ipython",
    "version": 3
   },
   "file_extension": ".py",
   "mimetype": "text/x-python",
   "name": "python",
   "nbconvert_exporter": "python",
   "pygments_lexer": "ipython3",
   "version": "3.9.12"
  }
 },
 "nbformat": 4,
 "nbformat_minor": 5
}
