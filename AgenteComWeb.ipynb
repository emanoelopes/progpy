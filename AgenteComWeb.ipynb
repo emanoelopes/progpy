{
  "nbformat": 4,
  "nbformat_minor": 0,
  "metadata": {
    "colab": {
      "provenance": [],
      "authorship_tag": "ABX9TyMI7VakLyUEej7QftO8ELG5",
      "include_colab_link": true
    },
    "kernelspec": {
      "name": "python3",
      "display_name": "Python 3"
    },
    "language_info": {
      "name": "python"
    }
  },
  "cells": [
    {
      "cell_type": "markdown",
      "metadata": {
        "id": "view-in-github",
        "colab_type": "text"
      },
      "source": [
        "<a href=\"https://colab.research.google.com/github/emanoelopes/progpy/blob/main/AgenteComWeb.ipynb\" target=\"_parent\"><img src=\"https://colab.research.google.com/assets/colab-badge.svg\" alt=\"Open In Colab\"/></a>"
      ]
    },
    {
      "cell_type": "code",
      "execution_count": 59,
      "metadata": {
        "colab": {
          "base_uri": "https://localhost:8080/"
        },
        "id": "VLBJe0gIKDU3",
        "outputId": "fa19b03e-575d-4b7f-ecc0-fe1886573802"
      },
      "outputs": [
        {
          "output_type": "stream",
          "name": "stdout",
          "text": [
            "Requirement already satisfied: openai in /usr/local/lib/python3.11/dist-packages (1.99.9)\n",
            "Requirement already satisfied: duckduckgo_search in /usr/local/lib/python3.11/dist-packages (8.1.1)\n",
            "Requirement already satisfied: anyio<5,>=3.5.0 in /usr/local/lib/python3.11/dist-packages (from openai) (4.10.0)\n",
            "Requirement already satisfied: distro<2,>=1.7.0 in /usr/local/lib/python3.11/dist-packages (from openai) (1.9.0)\n",
            "Requirement already satisfied: httpx<1,>=0.23.0 in /usr/local/lib/python3.11/dist-packages (from openai) (0.28.1)\n",
            "Requirement already satisfied: jiter<1,>=0.4.0 in /usr/local/lib/python3.11/dist-packages (from openai) (0.10.0)\n",
            "Requirement already satisfied: pydantic<3,>=1.9.0 in /usr/local/lib/python3.11/dist-packages (from openai) (2.11.7)\n",
            "Requirement already satisfied: sniffio in /usr/local/lib/python3.11/dist-packages (from openai) (1.3.1)\n",
            "Requirement already satisfied: tqdm>4 in /usr/local/lib/python3.11/dist-packages (from openai) (4.67.1)\n",
            "Requirement already satisfied: typing-extensions<5,>=4.11 in /usr/local/lib/python3.11/dist-packages (from openai) (4.14.1)\n",
            "Requirement already satisfied: click>=8.1.8 in /usr/local/lib/python3.11/dist-packages (from duckduckgo_search) (8.2.1)\n",
            "Requirement already satisfied: primp>=0.15.0 in /usr/local/lib/python3.11/dist-packages (from duckduckgo_search) (0.15.0)\n",
            "Requirement already satisfied: lxml>=5.3.0 in /usr/local/lib/python3.11/dist-packages (from duckduckgo_search) (5.4.0)\n",
            "Requirement already satisfied: idna>=2.8 in /usr/local/lib/python3.11/dist-packages (from anyio<5,>=3.5.0->openai) (3.10)\n",
            "Requirement already satisfied: certifi in /usr/local/lib/python3.11/dist-packages (from httpx<1,>=0.23.0->openai) (2025.8.3)\n",
            "Requirement already satisfied: httpcore==1.* in /usr/local/lib/python3.11/dist-packages (from httpx<1,>=0.23.0->openai) (1.0.9)\n",
            "Requirement already satisfied: h11>=0.16 in /usr/local/lib/python3.11/dist-packages (from httpcore==1.*->httpx<1,>=0.23.0->openai) (0.16.0)\n",
            "Requirement already satisfied: annotated-types>=0.6.0 in /usr/local/lib/python3.11/dist-packages (from pydantic<3,>=1.9.0->openai) (0.7.0)\n",
            "Requirement already satisfied: pydantic-core==2.33.2 in /usr/local/lib/python3.11/dist-packages (from pydantic<3,>=1.9.0->openai) (2.33.2)\n",
            "Requirement already satisfied: typing-inspection>=0.4.0 in /usr/local/lib/python3.11/dist-packages (from pydantic<3,>=1.9.0->openai) (0.4.1)\n"
          ]
        }
      ],
      "source": [
        "# Fazer pesquisa na web (duckduckgo).\n",
        "!pip install duckduckgo_search"
      ]
    },
    {
      "cell_type": "code",
      "source": [
        "from duckduckgo_search import DDGS\n",
        "import google.generativeai as genai\n",
        "from google.colab import userdata\n",
        "\n",
        "# Configure a API com sua chave\n",
        "genai.configure(api_key=userdata.get('GOOGLE_API_KEY'))\n",
        "\n",
        "# Inicialize o modelo Gemini\n",
        "model = genai.GenerativeModel('gemini-2.5-flash')  # Ou outro modelo disponível\n"
      ],
      "metadata": {
        "id": "SHWubALMKz1M"
      },
      "execution_count": 60,
      "outputs": []
    },
    {
      "cell_type": "code",
      "source": [
        "def busca_web(pergunta):\n",
        "  return '''de acordo com fontes altamente confiaveis encontradas na internet o presidente do Brasil em 2045 é o personagem fictício Chaves. Ele assumiu o cargo após revolução em Acapulco.'''"
      ],
      "metadata": {
        "id": "go2o7IbiM8Yb"
      },
      "execution_count": 61,
      "outputs": []
    },
    {
      "cell_type": "code",
      "source": [
        "def agente(pergunta):\n",
        "    info = busca_web(pergunta)\n",
        "    prompt = f'''O usuário fez a seguinte pergunta: \"{pergunta}\"\n",
        "    Você encontrou estas informações na internet: {info}\n",
        "    Responda somente com base nas informações acima.\n",
        "    Se não houver dados suficientes, diga que não foi possível responder com precisão.'''\n",
        "\n",
        "    try:\n",
        "        # Gera a resposta usando o modelo\n",
        "        resposta = model.generate_content(prompt)\n",
        "\n",
        "        # Acessa o texto da resposta\n",
        "        if hasattr(resposta, 'text'):\n",
        "            return resposta.text\n",
        "        elif hasattr(resposta, 'candidates') and len(resposta.candidates) > 0:\n",
        "            return resposta.candidates[0].content.parts[0].text\n",
        "        else:\n",
        "            return \"Não foi possível gerar uma resposta.\"\n",
        "\n",
        "    except Exception as e:\n",
        "        return f\"Ocorreu um erro: {str(e)}\"\n",
        "\n",
        "# Exemplo de uso\n",
        "pergunta = \"Qual é o presidente do Brasil em 2045?\"\n",
        "resposta = agente(pergunta)\n",
        "print(\"Resposta:\", resposta)"
      ],
      "metadata": {
        "colab": {
          "base_uri": "https://localhost:8080/",
          "height": 54
        },
        "id": "r0GhGdT3NYS3",
        "outputId": "072c21fb-386f-46a6-812e-d802b9a660e9"
      },
      "execution_count": 62,
      "outputs": [
        {
          "output_type": "stream",
          "name": "stdout",
          "text": [
            "Resposta: De acordo com as informações fornecidas, o presidente do Brasil em 2045 é o personagem fictício Chaves. Ele assumiu o cargo após uma revolução em Acapulco.\n"
          ]
        }
      ]
    }
  ]
}