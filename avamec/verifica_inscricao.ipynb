{
 "cells": [
  {
   "cell_type": "markdown",
   "id": "2b2d63e3",
   "metadata": {},
   "source": [
    "1 - Importações"
   ]
  },
  {
   "cell_type": "code",
   "execution_count": 34,
   "id": "f3cefc49",
   "metadata": {},
   "outputs": [],
   "source": [
    "# Importar bibliotecas necessárias\n",
    "import pandas as pd\n",
    "import os\n",
    "!pip install -q pandas openpyxl"
   ]
  },
  {
   "cell_type": "markdown",
   "id": "5c5ed00f",
   "metadata": {},
   "source": [
    "2 - Definição de constantes"
   ]
  },
  {
   "cell_type": "code",
   "execution_count": 35,
   "id": "4a90ab7e",
   "metadata": {},
   "outputs": [],
   "source": [
    "def verificar_arquivos_existem(cursistas_file, emails_file=None):\n",
    "    \"\"\"\n",
    "    Verifica se os arquivos necessários existem.\n",
    "    \n",
    "    Args:\n",
    "        cursistas_file (str): Caminho para o arquivo de cursistas\n",
    "        emails_file (str, optional): Caminho para o arquivo de emails\n",
    "    \"\"\"\n",
    "    errors = []\n",
    "    \n",
    "    if not os.path.exists(cursistas_file):\n",
    "        errors.append(f\"Arquivo de cursistas não encontrado: {cursistas_file}\")\n",
    "    \n",
    "    if emails_file and not os.path.exists(emails_file):\n",
    "        errors.append(f\"Arquivo de emails não encontrado: {emails_file}\")\n",
    "        \n",
    "    return errors"
   ]
  },
  {
   "cell_type": "code",
   "execution_count": 36,
   "id": "a9e274ac",
   "metadata": {},
   "outputs": [],
   "source": [
    "# Define file paths\n",
    "cursistas_file = '/home/emanoel/Downloads/avamec_inscricoes/Cursistas Turma A/Cursistas Turma_A.xlsx'\n",
    "\n",
    "# Define matching columns\n",
    "matching_column_cursistas = '[0] login'\n",
    "matching_column_ava = 'Login do Membro'\n",
    "error_column_ava = 'Erro Apresentado?'\n",
    "login_existente_column = 'Login existente'"
   ]
  },
  {
   "cell_type": "markdown",
   "id": "fbfaa263",
   "metadata": {},
   "source": [
    "3 - Carregar dados dos cursistas"
   ]
  },
  {
   "cell_type": "code",
   "execution_count": 37,
   "id": "bdf55416",
   "metadata": {},
   "outputs": [],
   "source": [
    "# Load the cursistas dataframe\n",
    "try:\n",
    "    df_cursistas = pd.read_excel(cursistas_file)\n",
    "    # Clean the matching column in df_cursistas\n",
    "    df_cursistas[matching_column_cursistas] = df_cursistas[matching_column_cursistas].astype(str).str.strip().str.lower()\n",
    "except FileNotFoundError as e:\n",
    "    print(f\"Error loading cursistas file: {e}. Make sure the file path is correct.\")\n",
    "    raise SystemExit(f\"Error loading cursistas file: {e}. Cannot proceed.\")"
   ]
  },
  {
   "cell_type": "markdown",
   "id": "9b86de4c",
   "metadata": {},
   "source": [
    "4 - Função de verificação de emails capturados em uma sessão do meet"
   ]
  },
  {
   "cell_type": "code",
   "execution_count": null,
   "id": "e87ec5c9",
   "metadata": {},
   "outputs": [],
   "source": [
    "def verificar_emails(cursistas_file, emails_file):\n",
    "    \"\"\"\n",
    "    Verifica se os emails fornecidos existem na planilha de cursistas.\n",
    "    \n",
    "    Args:\n",
    "        cursistas_file (str): Caminho para o arquivo de cursistas\n",
    "        emails_file (str): Caminho para o arquivo com lista de emails\n",
    "    \"\"\"\n",
    "    # Verificar existência dos arquivos\n",
    "    errors = verificar_arquivos_existem(cursistas_file, emails_file)\n",
    "    if errors:\n",
    "        for error in errors:\n",
    "            print(f\"Erro: {error}\")\n",
    "        return\n",
    "        \n",
    "    try:\n",
    "        # Carrega planilha de cursistas\n",
    "        df_cursistas = pd.read_excel(cursistas_file)\n",
    "        \n",
    "        # Verifica se a coluna de email existe\n",
    "        if '[2] E-mail' not in df_cursistas.columns:\n",
    "            print(\"Erro: Coluna '[2] E-mail' não encontrada na planilha de cursistas\")\n",
    "            return\n",
    "        \n",
    "        # Carrega arquivo com emails para verificar\n",
    "        try:\n",
    "            with open(emails_file, 'r') as f:\n",
    "                emails_verificar = [email.strip().lower() for email in f.readlines() if email.strip()]\n",
    "        except UnicodeDecodeError:\n",
    "            print(\"Erro: Arquivo de emails com encoding inválido. Use UTF-8\")\n",
    "            return\n",
    "            \n",
    "        if not emails_verificar:\n",
    "            print(\"Erro: Arquivo de emails está vazio\")\n",
    "            return\n",
    "        \n",
    "        # Converte emails dos cursistas para lowercase para comparação\n",
    "        emails_cursistas = df_cursistas['[2] E-mail'].str.strip().str.lower()\n",
    "        \n",
    "        # Verifica emails\n",
    "        emails_encontrados = []\n",
    "        emails_nao_encontrados = []\n",
    "        emails_invalidos = []\n",
    "        \n",
    "        for email in emails_verificar:\n",
    "            if '@' not in email:\n",
    "                emails_invalidos.append(email)\n",
    "            elif email in emails_cursistas.values:\n",
    "                emails_encontrados.append(email)\n",
    "            else:\n",
    "                emails_nao_encontrados.append(email)\n",
    "        \n",
    "        # Exibe resultados\n",
    "        print(\"\\nResultados da verificação de emails:\")\n",
    "        print(f\"Total de emails verificados: {len(emails_verificar)}\")\n",
    "        print(f\"Emails encontrados: {len(emails_encontrados)}\")\n",
    "        print(f\"Emails não encontrados: {len(emails_nao_encontrados)}\")\n",
    "        print(f\"Emails inválidos: {len(emails_invalidos)}\")\n",
    "        \n",
    "        if emails_nao_encontrados:\n",
    "            print(\"\\nEmails não encontrados na planilha:\")\n",
    "            for email in emails_nao_encontrados:\n",
    "                print(f\"{email}\")\n",
    "                \n",
    "        if emails_invalidos:\n",
    "            print(\"\\nEmails com formato inválido:\")\n",
    "            for email in emails_invalidos:\n",
    "                print(f\"- {email}\")\n",
    "                \n",
    "    except FileNotFoundError as e:\n",
    "        print(f\"Erro ao carregar arquivos: {e}\")\n",
    "    except pd.errors.EmptyDataError:\n",
    "        print(\"Erro: A planilha de cursistas está vazia\")\n",
    "    except Exception as e:\n",
    "        print(f\"Erro inesperado: {e}\")"
   ]
  },
  {
   "cell_type": "markdown",
   "id": "ffbbb9cb",
   "metadata": {},
   "source": [
    "5 - Execução da verificação"
   ]
  },
  {
   "cell_type": "code",
   "execution_count": 39,
   "id": "c895a69c",
   "metadata": {},
   "outputs": [
    {
     "name": "stdout",
     "output_type": "stream",
     "text": [
      "\n",
      "Resultados da verificação de emails:\n",
      "Total de emails verificados: 207\n",
      "Emails encontrados: 197\n",
      "Emails não encontrados: 10\n",
      "Emails inválidos: 0\n",
      "\n",
      "Emails não encontrados na planilha:\n",
      "- adrianamadja@gmail.com\n",
      "- alexsantana7@gmail.com\n",
      "- heidyani@gmail.com\n",
      "- karla.lopes@ufc.br\n",
      "- karlacristiner@ufc.br\n",
      "- marques2022ufc@gmail.com\n",
      "- sumarafrotadn@gmail.com\n",
      "- vitoriaramos@ufc.br\n",
      "- vsalesp4@gmail.com\n",
      "- katiajeilson@gmail.com\n"
     ]
    }
   ],
   "source": [
    "# Exemplo de uso da função\n",
    "verificar_emails(\n",
    "    '/home/emanoel/Downloads/avamec_inscricoes/Cursistas Turma A/Cursistas Turma_A.xlsx',\n",
    "    '/home/emanoel/Downloads/avamec_inscricoes/Cursistas Turma A/emails_verificar.txt'\n",
    ")"
   ]
  },
  {
   "cell_type": "code",
   "execution_count": null,
   "id": "ec6e97f6",
   "metadata": {},
   "outputs": [],
   "source": []
  }
 ],
 "metadata": {
  "kernelspec": {
   "display_name": "progpy",
   "language": "python",
   "name": "python3"
  },
  "language_info": {
   "codemirror_mode": {
    "name": "ipython",
    "version": 3
   },
   "file_extension": ".py",
   "mimetype": "text/x-python",
   "name": "python",
   "nbconvert_exporter": "python",
   "pygments_lexer": "ipython3",
   "version": "3.11.2"
  }
 },
 "nbformat": 4,
 "nbformat_minor": 5
}
