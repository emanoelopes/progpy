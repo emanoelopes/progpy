{
 "cells": [
  {
   "cell_type": "code",
   "execution_count": 2,
   "id": "67fc6023",
   "metadata": {},
   "outputs": [],
   "source": [
    "class Inventario:\n",
    "    def __init__(self, tombo):\n",
    "        self.num_tombamento = tombo\n",
    "    "
   ]
  },
  {
   "cell_type": "code",
   "execution_count": 3,
   "id": "6a7163c7",
   "metadata": {},
   "outputs": [],
   "source": [
    "item = Inventario(442094)"
   ]
  },
  {
   "cell_type": "code",
   "execution_count": 5,
   "id": "e963e74f",
   "metadata": {},
   "outputs": [
    {
     "data": {
      "text/plain": [
       "442094"
      ]
     },
     "execution_count": 5,
     "metadata": {},
     "output_type": "execute_result"
    }
   ],
   "source": [
    "item.num_tombamento"
   ]
  },
  {
   "cell_type": "code",
   "execution_count": null,
   "id": "8fba9977",
   "metadata": {},
   "outputs": [],
   "source": []
  }
 ],
 "metadata": {
  "kernelspec": {
   "display_name": "Python 3 (ipykernel)",
   "language": "python",
   "name": "python3"
  },
  "language_info": {
   "codemirror_mode": {
    "name": "ipython",
    "version": 3
   },
   "file_extension": ".py",
   "mimetype": "text/x-python",
   "name": "python",
   "nbconvert_exporter": "python",
   "pygments_lexer": "ipython3",
   "version": "3.9.12"
  }
 },
 "nbformat": 4,
 "nbformat_minor": 5
}
